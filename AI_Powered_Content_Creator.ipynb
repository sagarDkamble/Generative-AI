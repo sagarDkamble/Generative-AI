{
  "nbformat": 4,
  "nbformat_minor": 0,
  "metadata": {
    "colab": {
      "provenance": []
    },
    "kernelspec": {
      "name": "python3",
      "display_name": "Python 3"
    },
    "language_info": {
      "name": "python"
    }
  },
  "cells": [
    {
      "cell_type": "code",
      "execution_count": 1,
      "metadata": {
        "colab": {
          "base_uri": "https://localhost:8080/",
          "height": 628
        },
        "id": "wW3HxdGQWjrf",
        "outputId": "185b2032-2984-4bcd-85bc-f38e546e5182"
      },
      "outputs": [
        {
          "output_type": "stream",
          "name": "stdout",
          "text": [
            "\u001b[?25l   \u001b[90m━━━━━━━━━━━━━━━━━━━━━━━━━━━━━━━━━━━━━━━━\u001b[0m \u001b[32m0.0/74.4 kB\u001b[0m \u001b[31m?\u001b[0m eta \u001b[36m-:--:--\u001b[0m\r\u001b[2K   \u001b[90m━━━━━━━━━━━━━━━━━━━━━━━━━━━━━━━━━━━━━━━━\u001b[0m \u001b[32m74.4/74.4 kB\u001b[0m \u001b[31m2.2 MB/s\u001b[0m eta \u001b[36m0:00:00\u001b[0m\n",
            "\u001b[?25hColab notebook detected. To show errors in colab notebook, set debug=True in launch()\n",
            "* Running on public URL: https://d06b9545f82ef8e5b3.gradio.live\n",
            "\n",
            "This share link expires in 1 week. For free permanent hosting and GPU upgrades, run `gradio deploy` from the terminal in the working directory to deploy to Hugging Face Spaces (https://huggingface.co/spaces)\n"
          ]
        },
        {
          "output_type": "display_data",
          "data": {
            "text/plain": [
              "<IPython.core.display.HTML object>"
            ],
            "text/html": [
              "<div><iframe src=\"https://d06b9545f82ef8e5b3.gradio.live\" width=\"100%\" height=\"500\" allow=\"autoplay; camera; microphone; clipboard-read; clipboard-write;\" frameborder=\"0\" allowfullscreen></iframe></div>"
            ]
          },
          "metadata": {}
        },
        {
          "output_type": "execute_result",
          "data": {
            "text/plain": []
          },
          "metadata": {},
          "execution_count": 1
        }
      ],
      "source": [
        "!pip install -qU langchain langchain-openai gradio\n",
        "\n",
        "import os, gradio as gr\n",
        "from langchain_openai import ChatOpenAI\n",
        "from langchain.prompts import ChatPromptTemplate\n",
        "\n",
        "# 4. Set up OpenAI API key\n",
        "import os\n",
        "os.environ[\"OPENAI_API_KEY\"] = \" \"  # Replace with your real key\n",
        "\n",
        "SYSTEM = \"You are a concise, audience-aware content generator. Follow the formatting rules per content type.\"\n",
        "\n",
        "HUMAN = \"\"\"\n",
        "Generate {content_type} content about: \"{topic}\"\n",
        "Tone: {tone}\n",
        "Target length (words): {length}\n",
        "Audience: {audience}\n",
        "Keywords (optional): {keywords}\n",
        "CTA (optional): {cta}\n",
        "\n",
        "Formatting rules by type:\n",
        "- blog: title + intro + 3–5 sections with short subheadings + conclusion.\n",
        "- tweet: ≤ 280 chars; 1–2 hashtags; no emojis unless tone is 'playful'.\n",
        "- linkedin: 120–220 words; scannable lines; ≤2 emojis only if tone is 'playful'.\n",
        "- instagram_caption: 60–150 words; 3–5 hashtags; emojis allowed unless tone is 'professional'.\n",
        "- video_script: HOOK, INTRO, BODY (3 beats), CTA; annotate approx timing in parentheses.\n",
        "- ad_copy: headline (≤8 words), body (≤60 words), CTA.\n",
        "\n",
        "Avoid fake facts or prices. Weave keywords naturally; no stuffing.\n",
        "\"\"\"\n",
        "\n",
        "prompt = ChatPromptTemplate.from_messages([\n",
        "    (\"system\", SYSTEM),\n",
        "    (\"human\", HUMAN),\n",
        "])\n",
        "\n",
        "llm = ChatOpenAI(temperature=0.5, max_tokens=900, model=\"gpt-4o-mini\")\n",
        "\n",
        "def generate_content(content_type, topic, tone, length, cta, keywords, audience):\n",
        "    if not topic.strip():\n",
        "        return \"Please enter a topic.\"\n",
        "    # sane minimums for long forms\n",
        "    if content_type in {\"blog\", \"video_script\"} and length < 120:\n",
        "        length = 200\n",
        "    try:\n",
        "        chain = prompt | llm\n",
        "        out = chain.invoke({\n",
        "            \"content_type\": content_type,\n",
        "            \"topic\": topic.strip(),\n",
        "            \"tone\": tone,\n",
        "            \"length\": int(length),\n",
        "            \"cta\": cta.strip(),\n",
        "            \"keywords\": keywords.strip(),\n",
        "            \"audience\": audience.strip(),\n",
        "        }).content.strip()\n",
        "        if content_type == \"tweet\" and len(out) > 280:\n",
        "            out = out[:277].rstrip() + \"...\"\n",
        "        return out\n",
        "    except Exception as e:\n",
        "        return f\"Oops—couldn't generate content: {e}\"\n",
        "\n",
        "with gr.Blocks() as demo:\n",
        "    gr.Markdown(\"## AI-Powered Content Creator\")\n",
        "    with gr.Row():\n",
        "        content_type = gr.Dropdown(\n",
        "            [\"blog\",\"tweet\",\"linkedin\",\"instagram_caption\",\"video_script\",\"ad_copy\"],\n",
        "            value=\"blog\", label=\"Content Type\"\n",
        "        )\n",
        "        tone = gr.Dropdown(\n",
        "            [\"professional\",\"casual\",\"persuasive\",\"educational\",\"playful\"],\n",
        "            value=\"educational\", label=\"Tone\"\n",
        "        )\n",
        "    topic = gr.Textbox(label=\"Topic\", placeholder=\"e.g., Benefits of compound interest for beginners\")\n",
        "    with gr.Row():\n",
        "        length = gr.Slider(60, 1000, value=400, step=20, label=\"Target length (words)\")\n",
        "        audience = gr.Textbox(label=\"Audience (optional)\", placeholder=\"e.g., college students\")\n",
        "    keywords = gr.Textbox(label=\"Keywords (optional)\", placeholder=\"comma-separated\")\n",
        "    cta = gr.Textbox(label=\"CTA (optional)\", placeholder=\"e.g., Subscribe for weekly tips\")\n",
        "    out = gr.Textbox(label=\"Generated Content\", lines=18)\n",
        "    btn = gr.Button(\"Generate\", variant=\"primary\")\n",
        "    btn.click(generate_content, [content_type, topic, tone, length, cta, keywords, audience], out)\n",
        "\n",
        "demo.launch(share=True)\n"
      ]
    }
  ]
}